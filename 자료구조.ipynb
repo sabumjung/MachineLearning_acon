{
  "nbformat": 4,
  "nbformat_minor": 0,
  "metadata": {
    "colab": {
      "name": "자료구조.ipynb",
      "provenance": [],
      "authorship_tag": "ABX9TyNWVufTAMX5bAo8ul06IwUF",
      "include_colab_link": true
    },
    "kernelspec": {
      "name": "python3",
      "display_name": "Python 3"
    },
    "language_info": {
      "name": "python"
    }
  },
  "cells": [
    {
      "cell_type": "markdown",
      "metadata": {
        "id": "view-in-github",
        "colab_type": "text"
      },
      "source": [
        "<a href=\"https://colab.research.google.com/github/sabumjung/R/blob/master/%EC%9E%90%EB%A3%8C%EA%B5%AC%EC%A1%B0.ipynb\" target=\"_parent\"><img src=\"https://colab.research.google.com/assets/colab-badge.svg\" alt=\"Open In Colab\"/></a>"
      ]
    },
    {
      "cell_type": "markdown",
      "source": [
        "# 트리노드 생성"
      ],
      "metadata": {
        "id": "AitGdqk4BuA6"
      }
    },
    {
      "cell_type": "code",
      "execution_count": 1,
      "metadata": {
        "id": "WR_jm515A885"
      },
      "outputs": [],
      "source": [
        "class TreeNode:\n",
        "    def __init__(self, val=0, left=None, right=None):\n",
        "        self.val=val\n",
        "        self.left=left\n",
        "        self.right=right"
      ]
    },
    {
      "cell_type": "code",
      "source": [
        "b=TreeNode()\n",
        "b.val='root'\n",
        "b.left=TreeNode()\n",
        "b.left.val='left1'\n",
        "b.right=TreeNode()\n",
        "b.right.val='right1'\n",
        "b.left.left=TreeNode()\n",
        "b.left.left.val='left2'\n",
        "b.right.right=TreeNode()\n",
        "b.right.right.val='right2'"
      ],
      "metadata": {
        "id": "z1ofDbm2CnSj"
      },
      "execution_count": 2,
      "outputs": []
    },
    {
      "cell_type": "markdown",
      "source": [
        "# 이진트리의 최대 깊이"
      ],
      "metadata": {
        "id": "fi8TzkoNCxwz"
      }
    },
    {
      "cell_type": "code",
      "source": [
        "from collections import deque\n",
        "from typing import Optional\n",
        "\n",
        "class Solution:\n",
        "    def maxDepth(self, root: Optional[TreeNode]) -> int:\n",
        "        \n",
        "        if not root:\n",
        "            return 0\n",
        "        \n",
        "        q = deque([root])\n",
        "        depth = 0\n",
        "        while q:\n",
        "            depth += 1\n",
        "            \n",
        "            for _ in range(len(q)):\n",
        "                node = q.popleft()\n",
        "                #자식 노드가 있을 경우 노드 추가\n",
        "                if node.left:\n",
        "                    q.append(node.left)\n",
        "                if node.right:\n",
        "                    q.append(node.right)\n",
        "        return depth\n",
        "Solution().maxDepth(b)  "
      ],
      "metadata": {
        "colab": {
          "base_uri": "https://localhost:8080/"
        },
        "id": "XAroHuQmCpHx",
        "outputId": "eb71e1a9-5560-4b31-e487-fbd08945faf9"
      },
      "execution_count": 3,
      "outputs": [
        {
          "output_type": "execute_result",
          "data": {
            "text/plain": [
              "3"
            ]
          },
          "metadata": {},
          "execution_count": 3
        }
      ]
    },
    {
      "cell_type": "markdown",
      "source": [
        "# 이진트리의 직경"
      ],
      "metadata": {
        "id": "8vnDoRwDC1ib"
      }
    },
    {
      "cell_type": "code",
      "source": [
        "class Solution:\n",
        "    distance = 0\n",
        "    def diameterOfBinaryTree(self, root: Optional[TreeNode]) -> int:\n",
        "        def dfs(node):\n",
        "            if not node:\n",
        "                return -1\n",
        "            \n",
        "            left=dfs(node.left)\n",
        "            right=dfs(node.right)\n",
        "            self.distance=max(self.distance, left+right+2)\n",
        "            return max(left, right)+1\n",
        "\n",
        "        dfs(root)\n",
        "        return self.distance\n",
        "\n",
        "Solution().diameterOfBinaryTree(b)     "
      ],
      "metadata": {
        "colab": {
          "base_uri": "https://localhost:8080/"
        },
        "id": "j6xEcyeSCrn7",
        "outputId": "849e5107-090b-4e69-f434-ab09efc30e42"
      },
      "execution_count": 4,
      "outputs": [
        {
          "output_type": "execute_result",
          "data": {
            "text/plain": [
              "4"
            ]
          },
          "metadata": {},
          "execution_count": 4
        }
      ]
    },
    {
      "cell_type": "markdown",
      "source": [
        "# https://velog.io/@himinhee/4%EB%B6%80-%EB%B9%84%EC%84%A0%ED%98%95-%EC%9E%90%EB%A3%8C%EA%B5%AC%EC%A1%B0-14%EC%9E%A5-%ED%8A%B8%EB%A6%AC#-43-%EC%9D%B4%EC%A7%84-%ED%8A%B8%EB%A6%AC%EC%9D%98-%EC%A7%81%EA%B2%BD--%EB%A6%AC%ED%8A%B8%EC%BD%94%EB%93%9C-543-diameter-of-binary-tree-"
      ],
      "metadata": {
        "id": "sLK09n1GDN-s"
      }
    },
    {
      "cell_type": "code",
      "source": [
        "class Solution:\n",
        "  result = 0\n",
        "  def longestUnivaluePath(self, root:Optional[TreeNode])->int:\n",
        "    def dfs(node):\n",
        "      "
      ],
      "metadata": {
        "id": "CuOAEM8BCuG5"
      },
      "execution_count": null,
      "outputs": []
    }
  ]
}